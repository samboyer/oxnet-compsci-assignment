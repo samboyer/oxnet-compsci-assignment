{
 "cells": [
  {
   "cell_type": "markdown",
   "id": "6497a702-120c-4045-8147-47e7069c58fe",
   "metadata": {
    "tags": []
   },
   "source": [
    "# OxNet Access Week - Computer Science Assignment\n",
    "\n",
    "Welcome to the CompSci assignment! The questions below will cover the topics discussed in the tutorial and the reading list. There's absolutely no need to complete everything, or get everything right - just hand in as much as you feel like doing and we'll discuss in the next tutorial.\n",
    "\n",
    "Throughout this problem sheet, I’ll define a graph as $G = (V,E)$ where V is a set of vertices V and E is a set of edges $(u,v)$. In Python, I’ll define the graph with 2 arguments `V, E`, where `V` is a list of strings and `E` is a list of 2-tuples of strings. To make things simpler, I’ll assume that the reverse of every edge is also in E (i.e. all graphs are symmetric).\n"
   ]
  },
  {
   "cell_type": "markdown",
   "id": "ff30a6cb-9235-4d9e-add7-46011291905e",
   "metadata": {},
   "source": [
    "## Section 1: Time/space complexity"
   ]
  },
  {
   "cell_type": "markdown",
   "id": "3ca1ce8c-a810-49a5-8f50-448d820131af",
   "metadata": {},
   "source": [
    "For each of the functions below, give **(a)** the worst-case time complexity and **(b)** the worst-case space complexity in the form O(f(n)), where n is the size of the array A  (i.e. `n = len(A)`)."
   ]
  },
  {
   "cell_type": "code",
   "execution_count": 5,
   "id": "1eaa4643-1c66-46dc-a46c-651fbe3f738d",
   "metadata": {},
   "outputs": [],
   "source": [
    "## 1.1.\n",
    "def arrayMin(A):\n",
    "    smallest = None\n",
    "    for i in range(0,len(A)):\n",
    "        if smallest == None or A[i] <= smallest:\n",
    "            smallest = A[i]\n",
    "    return smallest\n",
    "        "
   ]
  },
  {
   "cell_type": "raw",
   "id": "bf137dbf-3c39-424c-8b0d-bbb61dc872d5",
   "metadata": {},
   "source": [
    "Time complexity:\n",
    "\n",
    "Space complexity:"
   ]
  },
  {
   "cell_type": "code",
   "execution_count": 1,
   "id": "938c0476-1170-461e-b2ea-1c9f3bd11dfb",
   "metadata": {},
   "outputs": [],
   "source": [
    "## 1.2.\n",
    "def bubbleSort(A):\n",
    "    # courtesy of https://www.geeksforgeeks.org/python-program-for-bubble-sort/\n",
    "    n = len(A)\n",
    "    swapped = False\n",
    "\n",
    "    for i in range(n-1):\n",
    "        for j in range(0, n-i-1):\n",
    "            if A[j] > A[j + 1]:\n",
    "                swapped = True\n",
    "                A[j], A[j + 1] = A[j + 1], A[j]\n",
    "        if not swapped:\n",
    "            # no swaps done in first iteration, can terminate early\n",
    "            return\n",
    "        "
   ]
  },
  {
   "cell_type": "raw",
   "id": "03e40962-d674-4ea4-bc85-2652ccd3837c",
   "metadata": {},
   "source": [
    "Time complexity:\n",
    "\n",
    "Space complexity:"
   ]
  },
  {
   "cell_type": "code",
   "execution_count": 4,
   "id": "6d570bae-d8e9-4cc7-8fc9-c1f5e4fcf5e2",
   "metadata": {},
   "outputs": [],
   "source": [
    "## 1.3.\n",
    "def binarySearch(A, x):\n",
    "    # courtesy of https://www.geeksforgeeks.org/python-program-for-binary-search/\n",
    "    low = 0\n",
    "    high = len(A) - 1\n",
    "    mid = 0\n",
    " \n",
    "    while low <= high:\n",
    "        mid = (high + low) // 2\n",
    "        if A[mid] < x:\n",
    "            low = mid + 1\n",
    "        elif A[mid] > x:\n",
    "            high = mid - 1\n",
    "        else:\n",
    "            return mid\n",
    "    return -1\n",
    "        "
   ]
  },
  {
   "cell_type": "raw",
   "id": "abdd01a8-7c95-491f-87bd-4c3e932fa7b9",
   "metadata": {},
   "source": [
    "Time complexity:\n",
    "\n",
    "Space complexity:"
   ]
  },
  {
   "cell_type": "code",
   "execution_count": 2,
   "id": "d28a5ab3-5e06-443c-98f6-aa6b23a0afe7",
   "metadata": {},
   "outputs": [],
   "source": [
    "## 1.4.\n",
    "def solveTowersOfHanoi(n, startPeg, goalPeg, sparePeg):\n",
    "    # n is the number of disks to move \n",
    "    if n < 1:\n",
    "        return\n",
    "    elif n == 1:\n",
    "        # just move the one disk straight to the goal\n",
    "        print(\"Move from \" + startPeg + \" to \" + goalPeg)\n",
    "        return\n",
    "    else:\n",
    "        # move the n-1 smallest disks to the spare peg,\n",
    "        # using the goal peg as a spare\n",
    "        solveTowersOfHanoi(n-1, startPeg, sparePeg, goalPeg)\n",
    "        # move the largest disk\n",
    "        print(\"Move from \" + startPeg + \" to \" + goalPeg)\n",
    "        # move those n-1 disks back to the goal,\n",
    "        # using the start peg as a spare\n",
    "        solveTowersOfHanoi(n-1, sparePeg, goalPeg, startPeg)      \n",
    "\n",
    "        "
   ]
  },
  {
   "cell_type": "raw",
   "id": "88216fbd-3545-4ddb-9318-57ac081491b6",
   "metadata": {},
   "source": [
    "Time complexity:\n",
    "\n",
    "Space complexity:"
   ]
  },
  {
   "cell_type": "markdown",
   "id": "fba1235b-b1cd-4c30-8114-0bd0a01d5797",
   "metadata": {},
   "source": [
    "## Section 2: Search Algorithms"
   ]
  },
  {
   "cell_type": "code",
   "execution_count": 3,
   "id": "709aa234-ae27-47db-bcfd-58b0488fbfaa",
   "metadata": {},
   "outputs": [],
   "source": [
    "# Utility functions - ignore this!\n",
    "\n",
    "# A utility function to make a connected graph of size n\n",
    "import random\n",
    "def makeGraphOfSize(n):\n",
    "  # use list comprehension to make vertices '0' - 'n-1'\n",
    "  V = [str(i) for i in range(0,n)]\n",
    "  # make all edges with random weights\n",
    "  E = [(u,v, random.randrange(1,1000)) for u in V for v in V if not (u==v)]\n",
    "  return (V,E)\n",
    "\n",
    "# A utility function to mimic a real-world graph of places (ie satisfies triangle inequality)\n",
    "def makeRealWorldGraphOfSize(n):\n",
    "  V = [str(i) for i in range(0,n)]\n",
    "  # make random coordinates\n",
    "  locations = {v : (random.uniform(-90,90), random.uniform(-90,90)) for v in V}\n",
    "\n",
    "  # make edges between vertices with jitter (so the straight line isn't always best)\n",
    "  E = []\n",
    "  for u in V:\n",
    "    for v in V:\n",
    "      if u==v: continue\n",
    "      if random.uniform(0,1)<0.5: continue #randomly omit edges\n",
    "      lu = locations[u]\n",
    "      lv = locations[v]\n",
    "      dist = ((lu[0]-lv[0])**2 + (lu[1]-lv[1])**2)**0.5\n",
    "      E.append((u, v, dist))\n",
    "  return (V,E, locations)\n"
   ]
  },
  {
   "cell_type": "markdown",
   "id": "82ba22c6-95cd-4a89-9d5c-2eea5631e549",
   "metadata": {},
   "source": [
    "**2.1.** Complete the code for a depth-first tree search."
   ]
  },
  {
   "cell_type": "code",
   "execution_count": null,
   "id": "cc3f5bce-0858-4e3e-9135-aed678a879de",
   "metadata": {},
   "outputs": [],
   "source": [
    "def DFS(V, E, start, goal):\n",
    "  # Initialise stack of vertices to visit with the start vertex.\n",
    "  stack = [start]\n",
    "\n",
    "  while len(stack) ???:\n",
    "    # Pop from the stack.\n",
    "    current = stack[-1]\n",
    "    stack = stack[:-1]\n",
    "\n",
    "    if ???:\n",
    "      # We've found the goal!\n",
    "      print(\"found!\")\n",
    "      return\n",
    "\n",
    "    # Add all of its neighbours to the stack\n",
    "    for edge in E:\n",
    "      if edge[0] == current:\n",
    "        ???\n",
    "\n",
    "  # stack has been emptied; no route to goal exists from start.\n",
    "  print(\"no route:(\")  \n",
    "  return"
   ]
  },
  {
   "cell_type": "markdown",
   "id": "00b0093a-1aaa-43e8-8140-c80b88f4fa06",
   "metadata": {},
   "source": [
    "**2.2.** If we try to run this code on a graph instead of a tree, it could get stuck in a loop. Why? \n",
    "\n",
    "Adapt the above DFS function so it works on graphs (that is, to avoid looping). "
   ]
  },
  {
   "cell_type": "markdown",
   "id": "c9993b58-8a51-4879-b99f-608782fc0a46",
   "metadata": {},
   "source": [
    "**2.3.** Using your above code for DFS, write a function to perform breadth-first search. \n",
    " *(Hint: You should only need to change one data structure!)*"
   ]
  },
  {
   "cell_type": "code",
   "execution_count": null,
   "id": "5848ca7c-0190-42c0-a239-bff257a09042",
   "metadata": {},
   "outputs": [],
   "source": [
    "def BFS(V, E, start, goal):\n",
    "  ???"
   ]
  },
  {
   "cell_type": "markdown",
   "id": "7584de92-6e21-4327-8baf-1bacdaf05b3f",
   "metadata": {},
   "source": [
    "**2.4.** Give the time/space complexity of DFS/BFS."
   ]
  },
  {
   "cell_type": "raw",
   "id": "9bdef00f-17b5-40b1-a34a-ac5226d797c4",
   "metadata": {},
   "source": [
    "Time complexity:\n",
    "\n",
    "Space complexity:"
   ]
  },
  {
   "cell_type": "markdown",
   "id": "7cb85f4c-b319-41fd-8acc-1cfb711317bb",
   "metadata": {},
   "source": [
    "*From here on, we'll treat the edges E as a list of 3-tuples (u,v,l), where u,v are the vertices and l is the length of the edge.*\n",
    "\n",
    "**2.5.** Complete the code for Dijkstra’s search algorithm."
   ]
  },
  {
   "cell_type": "code",
   "execution_count": null,
   "id": "1c2996ac-26fe-4dbd-9e2d-e27e0530d605",
   "metadata": {},
   "outputs": [],
   "source": [
    "def Dijkstras(V, E, start, goal):\n",
    "  queue = [(start,0)] # Start our search at `start`, with 0 length\n",
    "  visited = {}\n",
    "\n",
    "  # While there's vertices to look at,\n",
    "  while ???:  \n",
    "    # Remove the shortest-length path from the queue\n",
    "    (current, cost) = queue.pop()\n",
    "    visited[current] = True\n",
    "\n",
    "    # print(current,length)\n",
    "    \n",
    "    if ???:\n",
    "      # We've found the goal!\n",
    "      print(\"found! \"+str(cost))\n",
    "      return\n",
    "\n",
    "    # Add all of its neighbours to the queue\n",
    "    for ???:\n",
    "      if ??? and edge[1] not in ???: # If the edge's source vertex is the current vertex, and hasn't been visited,\n",
    "        # calculate the new cost of this path (original path cost + this edge cost) and add it to the queue\n",
    "        newCost = ??? \n",
    "        queue.append((edge[1], newCost))\n",
    "\n",
    "    # Sort queue by shortest path length\n",
    "    queue = sorted(queue, key = lambda p : p[1], reverse = True)\n",
    "    \n",
    "  # queue has been emptied; no route to goal exists from start.\n",
    "  print(\"no route:(\")\n",
    "  return"
   ]
  },
  {
   "cell_type": "markdown",
   "id": "24afc1ec-e754-4288-bf3f-e0342405452b",
   "metadata": {},
   "source": [
    "Like Dijkstra’s, the A* search algorithm also uses a priority queue, but instead of the path length it sorts the paths based on $path\\ length + h(n)$, for some heuristic function h.\n",
    "\n",
    "**2.6.** Using your above code for Dijkstra’s, give an A* implementation in terms of some heuristic function $h(n)$. \n",
    "\n",
    "*Python lets us pass functions as parameters to other functions, so if we add `h` as an argument and call h within the function, we can use the same AStarSearch function but swap out the heuristic function to whatever suits our needs.... But it means we won't be able to run this function until we define a heuristic function in 2.6.*\n"
   ]
  },
  {
   "cell_type": "code",
   "execution_count": null,
   "id": "9c4c3a9d-95d4-4dd2-a152-4fbe0d3726f9",
   "metadata": {},
   "outputs": [],
   "source": [
    "def AStarSearch(V, E, start, goal, h, locations):\n",
    "  ???"
   ]
  },
  {
   "cell_type": "markdown",
   "id": "845253b2-ea3d-4ccd-b146-421319861421",
   "metadata": {},
   "source": [
    "**2.7.** For graphs that represent real-world locations, a good heuristic is the straight-line distance (‘as the crow flies’) between node n and the destination. Given a dictionary `locations`, write this function `hStraightLine`."
   ]
  },
  {
   "cell_type": "code",
   "execution_count": null,
   "id": "977d2c38-286f-43c0-b1b9-ad919a5820dc",
   "metadata": {},
   "outputs": [],
   "source": [
    "def hStraightLine(n, dest, locations):\n",
    "  ???"
   ]
  },
  {
   "cell_type": "markdown",
   "id": "d5c45c27-5380-471c-8f38-d92332cd5b28",
   "metadata": {},
   "source": [
    "**2.8.** We can use `time.time()` to get the current UNIX timestamp and measure the time it takes for code to run. Complete and execute the below code to compare the runtimes of our Dijkstra's and A* search algorithms. "
   ]
  },
  {
   "cell_type": "code",
   "execution_count": null,
   "id": "8ddf32ae-1c2a-4f61-a3a6-83815cbf1182",
   "metadata": {},
   "outputs": [],
   "source": [
    "import time\n",
    "import matplotlib\n",
    "import matplotlib.pyplot as plt\n",
    "\n",
    "%matplotlib inline\n",
    "\n",
    "def comparePathfinders(start, stop, step, ITERS):\n",
    "  xs = []\n",
    "  dijkstrasTimes = []\n",
    "  aStarTimes = []\n",
    "  for n in range(start, stop, step):\n",
    "    dijkstrasTime = 0\n",
    "    aStarTime = 0\n",
    "    for i in range(ITERS):\n",
    "      (V,E, locations) = makeRealWorldGraphOfSize(n)\n",
    "      t0 = time.time() # Time at which Dijkstras search starts\n",
    "      Dijkstras(V, E, '0', '1')\n",
    "      t1 = time.time() # Time at which Dijkstras finishes, A* starts\n",
    "      AStarSearch(V, E, '0', '1', hCrowFlies, locations)\n",
    "      t2 = time.time() # Time at which A* finishes\n",
    "      dijkstrasTime += ???\n",
    "      aStarTime     += ???\n",
    "    xs.append(n)\n",
    "    dijkstrasTimes.append(dijkstrasTime/ITERS)\n",
    "    aStarTimes.append(aStarTime/ITERS)\n",
    "\n",
    "  plt.plot(xs, ???)\n",
    "  plt.plot(xs, ???)\n",
    "  plt.xlabel('n = |V|')\n",
    "  plt.ylabel('time (secs)')\n",
    "  plt.show()\n",
    "\n",
    "comparePathfinders(10,80,10,10)"
   ]
  },
  {
   "cell_type": "markdown",
   "id": "ab058210-0ed0-40b0-b49a-c835b1037616",
   "metadata": {},
   "source": [
    "**2.9.** What property does the heuristic function $h(n)$ need to have for A* search to be guaranteed to always find the shortest path (the 'optimal solution')? *(Feel free to look this up)*"
   ]
  },
  {
   "cell_type": "raw",
   "id": "878ecc3a-9281-486d-9aad-06e5e6c00c7d",
   "metadata": {},
   "source": []
  },
  {
   "cell_type": "markdown",
   "id": "2b314298-cb3d-4607-9bdb-fcdbdcc7a283",
   "metadata": {},
   "source": [
    "## Section 3: The Travelling Salesperson Problem\n",
    "\n",
    "*In this section, we’ll assume our graphs are **complete** and **symmetric**, meaning there’s an edge between every pair of vertices with the same distance in each direction. This doesn’t have to be the case to solve TSP but makes our function easier to write.*"
   ]
  },
  {
   "cell_type": "markdown",
   "id": "8e7c2c45-39d4-4f0e-8289-4de074fbe48a",
   "metadata": {},
   "source": [
    "**3.1.** Complete the function below to solve the TSP problem."
   ]
  },
  {
   "cell_type": "code",
   "execution_count": null,
   "id": "74500a6e-0cc2-4df7-a1f9-f367623b4315",
   "metadata": {},
   "outputs": [],
   "source": [
    "import itertools\n",
    "\n",
    "# Assumes that G is a complete graph \n",
    "# (i.e. E contains all possible edges)\n",
    "def bruteForceTSP(V,E):\n",
    "  n = len(V)\n",
    "  bestTour = None\n",
    "  bestTourCost = ???\n",
    "\n",
    "  def findCostOf(E,u,v):\n",
    "    for (i,j,c) in E:\n",
    "      if i==u and j==v:\n",
    "        return c\n",
    "    \n",
    "  # For each possible tour in the graph,\n",
    "  for tour in itertools.permutations(???):\n",
    "        \n",
    "    # Calculate cost of this tour\n",
    "    cost = 0\n",
    "    for i in range(0, n-1):\n",
    "      cost += ???\n",
    "    # Add the cost to get back to the starting vertex\n",
    "    cost += findCostOf(E, tour[n-1], tour[0])\n",
    "    \n",
    "    if bestTour == None or ???:\n",
    "      bestTour = tour\n",
    "      bestTourCost = cost\n",
    "\n",
    "  print(\"Best tour is: \"+str(bestTour))\n",
    "  print(\"Cost: \"+str(bestTourCost))\n"
   ]
  },
  {
   "cell_type": "markdown",
   "id": "fc0df7aa-ee21-4604-bd09-14f76fd54d04",
   "metadata": {},
   "source": [
    "**3.2.** What's the time/space complexity of this funciton, in terms of `n = len(V)`?"
   ]
  },
  {
   "cell_type": "raw",
   "id": "54e9ecb9-ad55-45f3-92cb-84a1a1e11e5d",
   "metadata": {},
   "source": [
    "Time complexity:\n",
    "\n",
    "Space complexity:"
   ]
  },
  {
   "cell_type": "markdown",
   "id": "7e51bbed-452f-4e1e-9e44-5aa18a5d8e7e",
   "metadata": {},
   "source": [
    "**3.3.** Using your answer to question 2.8, write some code to measure the runtime of `bruteForceTSP` as the size of the graph increases, then make a line chart with matplotlib. *Hint: call `makeGraphOfSize(n)` on increasing values of n.*"
   ]
  },
  {
   "cell_type": "code",
   "execution_count": null,
   "id": "87ca20cb-2490-4ee8-81c1-c1e69f1437f6",
   "metadata": {},
   "outputs": [],
   "source": [
    "def measureTSPRuntime(start, stop, step, ITERS):\n",
    "  ???\n",
    "\n",
    " measureTSPRuntime(3,10,1,2)"
   ]
  },
  {
   "cell_type": "markdown",
   "id": "400c7e36-8657-4e04-a48a-8cd46a2d777e",
   "metadata": {},
   "source": [
    "**Bonus question**: We could make this function faster by forcing the tour to start at vertex 0. Why does this still give us the shortest tour, and how much faster would the function become?"
   ]
  },
  {
   "cell_type": "raw",
   "id": "c1a2d63f-9f4f-4798-984a-22aa785d9308",
   "metadata": {},
   "source": []
  },
  {
   "cell_type": "markdown",
   "id": "d5dcc446-a526-428e-becf-a78aea4dd1c0",
   "metadata": {},
   "source": [
    "## Section 4: Extension questions\n",
    "*These questions are more open-ended and textual than the previous ones - don't worry about writing loads, but feel free to investigate the topics if you have extra time!*"
   ]
  },
  {
   "cell_type": "markdown",
   "id": "97b56014-20a0-4d3c-b04e-5622c8b450f3",
   "metadata": {},
   "source": [
    "**4.1.**  While optimising a program for time complexity, we often increase its memory consumption, and vice versa.\n",
    "\n",
    "**a.** Give an example of a computer system in which time complexity should be reduced at the expense of more memory consumption."
   ]
  },
  {
   "cell_type": "raw",
   "id": "1b6ba4ee-8bb6-4b82-93c7-1a351fd1233e",
   "metadata": {},
   "source": []
  },
  {
   "cell_type": "markdown",
   "id": "70d27a4e-8bb1-4995-85b4-a4a443a9e4ad",
   "metadata": {},
   "source": [
    "**b.** Give an example of a computer system in which space complexity should be reduced at the expense of longer program run times."
   ]
  },
  {
   "cell_type": "raw",
   "id": "468ad6b3-0ecb-4c34-be6f-30f1521f5420",
   "metadata": {
    "tags": []
   },
   "source": []
  },
  {
   "cell_type": "markdown",
   "id": "89788f8a-cb4a-4561-aab7-5fedd25647bc",
   "metadata": {},
   "source": [
    "**4.2.** Computer scientists don’t currently have a proof that P≠NP (i.e. the class of deterministic polynomial-time programs is different to the class of nondeterministic polynomial-time programs).\n",
    "\n",
    "**a.** What would be the implications if a proof was found for P=NP?"
   ]
  },
  {
   "cell_type": "raw",
   "id": "0b65e226-f710-4e1f-bf84-8b3dddeaab66",
   "metadata": {
    "tags": []
   },
   "source": []
  },
  {
   "cell_type": "markdown",
   "id": "1c29796d-91d3-4dd4-a5e5-e699ef4eec04",
   "metadata": {},
   "source": [
    "**b.** What would happen if P≠NP was discovered instead?"
   ]
  },
  {
   "cell_type": "raw",
   "id": "c7121e1b-db3d-4435-bcd9-43ae4551f0d8",
   "metadata": {
    "tags": []
   },
   "source": []
  }
 ],
 "metadata": {
  "kernelspec": {
   "display_name": "default:Python",
   "language": "python",
   "name": "conda-env-default-py"
  },
  "language_info": {
   "codemirror_mode": {
    "name": "ipython",
    "version": 3
   },
   "file_extension": ".py",
   "mimetype": "text/x-python",
   "name": "python",
   "nbconvert_exporter": "python",
   "pygments_lexer": "ipython3",
   "version": "3.9.13"
  }
 },
 "nbformat": 4,
 "nbformat_minor": 5
}
