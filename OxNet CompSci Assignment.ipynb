{
 "cells": [
  {
   "cell_type": "markdown",
   "id": "6497a702-120c-4045-8147-47e7069c58fe",
   "metadata": {
    "tags": []
   },
   "source": [
    "# OxNet Access Week - Computer Science Assignment\n",
    "\n",
    "Throughout this problem sheet, I’ll define a graph as $G = (V,E)$ where V is a set of vertices V and E is a set of edges $(u,v)$. In Python, I’ll define the graph with 2 arguments `V, E`, where `V` is a list of strings and `E` is a list of 2-tuples of strings. To make things simpler, I’ll assume that the reverse of every edge is also in E (i.e. all graphs are symmetric)."
   ]
  },
  {
   "cell_type": "markdown",
   "id": "aabe8de3-89c4-4184-8db2-95038c0a4c62",
   "metadata": {},
   "source": [
    "## Initialisation\n",
    "\n",
    "We'll firstly make sure all the necessary libraries are installed (you could implement all the algorithms without them, but it helps us write the code a bit faster)."
   ]
  },
  {
   "cell_type": "code",
   "execution_count": null,
   "id": "fcc38ba8-e5c5-464a-b148-3f665baa5876",
   "metadata": {},
   "outputs": [],
   "source": [
    "# %pip install xxx"
   ]
  },
  {
   "cell_type": "code",
   "execution_count": 2,
   "id": "418b06a5-98d7-45de-8420-63489e3c212a",
   "metadata": {},
   "outputs": [
    {
     "name": "stdout",
     "output_type": "stream",
     "text": [
      "[(1, 2, 3), (1, 3, 2), (2, 1, 3), (2, 3, 1), (3, 1, 2), (3, 2, 1)]\n"
     ]
    }
   ],
   "source": [
    "import itertools\n",
    "print(list(itertools.permutations([1,2,3])))"
   ]
  },
  {
   "cell_type": "markdown",
   "id": "ff30a6cb-9235-4d9e-add7-46011291905e",
   "metadata": {},
   "source": [
    "## Section 1: Time/space complexity"
   ]
  },
  {
   "cell_type": "markdown",
   "id": "3ca1ce8c-a810-49a5-8f50-448d820131af",
   "metadata": {},
   "source": [
    "For each of the functions below, give **(a)** the worst-case time complexity and **(b)** the worst-case space complexity in the form O(f(n)), where n is the size of the array A  (i.e. `n = len(A)`)."
   ]
  },
  {
   "cell_type": "code",
   "execution_count": 5,
   "id": "1eaa4643-1c66-46dc-a46c-651fbe3f738d",
   "metadata": {},
   "outputs": [],
   "source": [
    "## 1.1.\n",
    "def arrayMin(A):\n",
    "    smallest = None\n",
    "    for i in range(0,len(A)):\n",
    "        if smallest == None or A[i] <= smallest:\n",
    "            smallest = A[i]\n",
    "    return smallest\n",
    "        "
   ]
  },
  {
   "cell_type": "raw",
   "id": "bf137dbf-3c39-424c-8b0d-bbb61dc872d5",
   "metadata": {},
   "source": [
    "Time complexity:\n",
    "\n",
    "Space complexity:"
   ]
  },
  {
   "cell_type": "code",
   "execution_count": 1,
   "id": "938c0476-1170-461e-b2ea-1c9f3bd11dfb",
   "metadata": {},
   "outputs": [],
   "source": [
    "## 1.2.\n",
    "def bubbleSort(A):\n",
    "    # courtesy of https://www.geeksforgeeks.org/python-program-for-bubble-sort/\n",
    "    n = len(A)\n",
    "    swapped = False\n",
    "\n",
    "    for i in range(n-1):\n",
    "        for j in range(0, n-i-1):\n",
    "            if A[j] > A[j + 1]:\n",
    "                swapped = True\n",
    "                A[j], A[j + 1] = A[j + 1], A[j]\n",
    "        if not swapped:\n",
    "            # no swaps done in first iteration, can terminate early\n",
    "            return\n",
    "        "
   ]
  },
  {
   "cell_type": "raw",
   "id": "03e40962-d674-4ea4-bc85-2652ccd3837c",
   "metadata": {},
   "source": [
    "Time complexity:\n",
    "\n",
    "Space complexity:"
   ]
  },
  {
   "cell_type": "code",
   "execution_count": 4,
   "id": "6d570bae-d8e9-4cc7-8fc9-c1f5e4fcf5e2",
   "metadata": {},
   "outputs": [],
   "source": [
    "## 1.3.\n",
    "def binarySearch(A, x):\n",
    "    # courtesy of https://www.geeksforgeeks.org/python-program-for-binary-search/\n",
    "    low = 0\n",
    "    high = len(A) - 1\n",
    "    mid = 0\n",
    " \n",
    "    while low <= high:\n",
    "        mid = (high + low) // 2\n",
    "        if A[mid] < x:\n",
    "            low = mid + 1\n",
    "        elif A[mid] > x:\n",
    "            high = mid - 1\n",
    "        else:\n",
    "            return mid\n",
    "    return -1\n",
    "        "
   ]
  },
  {
   "cell_type": "raw",
   "id": "abdd01a8-7c95-491f-87bd-4c3e932fa7b9",
   "metadata": {},
   "source": [
    "Time complexity:\n",
    "\n",
    "Space complexity:"
   ]
  },
  {
   "cell_type": "code",
   "execution_count": 2,
   "id": "d28a5ab3-5e06-443c-98f6-aa6b23a0afe7",
   "metadata": {},
   "outputs": [],
   "source": [
    "## 1.4.\n",
    "def solveTowersOfHanoi(n, startPeg, goalPeg, sparePeg):\n",
    "    # n is the number of disks to move \n",
    "    if n < 1:\n",
    "        return\n",
    "    elif n == 1:\n",
    "        # just move the one disk straight to the goal\n",
    "        print(\"Move from \" + startPeg + \" to \" + goalPeg)\n",
    "        return\n",
    "    else:\n",
    "        # move the n-1 smallest disks to the spare peg,\n",
    "        # using the goal peg as a spare\n",
    "        solveTowersOfHanoi(n-1, startPeg, sparePeg, goalPeg)\n",
    "        # move the largest disk\n",
    "        print(\"Move from \" + startPeg + \" to \" + goalPeg)\n",
    "        # move those n-1 disks back to the goal,\n",
    "        # using the start peg as a spare\n",
    "        solveTowersOfHanoi(n-1, sparePeg, goalPeg, startPeg)      \n",
    "\n",
    "        "
   ]
  },
  {
   "cell_type": "raw",
   "id": "88216fbd-3545-4ddb-9318-57ac081491b6",
   "metadata": {},
   "source": [
    "Time complexity:\n",
    "\n",
    "Space complexity:"
   ]
  },
  {
   "cell_type": "markdown",
   "id": "fba1235b-b1cd-4c30-8114-0bd0a01d5797",
   "metadata": {},
   "source": [
    "## Section 2: Search Algorithms"
   ]
  },
  {
   "cell_type": "markdown",
   "id": "ab058210-0ed0-40b0-b49a-c835b1037616",
   "metadata": {},
   "source": [
    "**2.9.** What property does the heuristic function $h(n)$ need to have for A* search to be guaranteed to always find the shortest path (the 'optimal solution')? *(Feel free to look this up)*"
   ]
  },
  {
   "cell_type": "raw",
   "id": "878ecc3a-9281-486d-9aad-06e5e6c00c7d",
   "metadata": {},
   "source": []
  },
  {
   "cell_type": "markdown",
   "id": "2b314298-cb3d-4607-9bdb-fcdbdcc7a283",
   "metadata": {},
   "source": [
    "## Section 3: The Travelling Salesperson Problem\n",
    "\n",
    "*In this section, we’ll assume our graphs are **complete** and **symmetric**, meaning there’s an edge between every pair of vertices with the same distance in each direction. This doesn’t have to be the case to solve TSP but makes our function easier to write.*"
   ]
  },
  {
   "cell_type": "code",
   "execution_count": 1,
   "id": "709aa234-ae27-47db-bcfd-58b0488fbfaa",
   "metadata": {},
   "outputs": [],
   "source": [
    "# A utility function to make a connected graph of size n\n",
    "import random\n",
    "def makeGraphOfSize(n):\n",
    "  # use list comprehension to make vertices '0' - 'n-1'\n",
    "  V = [str(i) for i in range(0,n)]\n",
    "  # make all edges with random weights\n",
    "  E = [(str(i),str(j), random.randrange(1,1000)) for i in range(0,n) for j in range(0,n) if not (i==j)]\n",
    "  return (V,E)"
   ]
  },
  {
   "cell_type": "markdown",
   "id": "8e7c2c45-39d4-4f0e-8289-4de074fbe48a",
   "metadata": {},
   "source": [
    "**3.1.** Complete the function below to solve the TSP problem."
   ]
  },
  {
   "cell_type": "code",
   "execution_count": null,
   "id": "74500a6e-0cc2-4df7-a1f9-f367623b4315",
   "metadata": {},
   "outputs": [],
   "source": [
    "import itertools\n",
    "\n",
    "# Assumes that G is a complete graph \n",
    "# (i.e. E contains all possible edges)\n",
    "def bruteForceTSP(V,E):\n",
    "  n = len(V)\n",
    "  bestTour = None\n",
    "  bestTourCost = ???\n",
    "\n",
    "  def findCostOf(E,u,v):\n",
    "    for (i,j,c) in E:\n",
    "      if i==u and j==v:\n",
    "        return c\n",
    "    \n",
    "  # For each possible tour in the graph,\n",
    "  for tour in itertools.permutations(???):\n",
    "        \n",
    "    # Calculate cost of this tour\n",
    "    cost = 0\n",
    "    for i in range(0, n-1):\n",
    "      cost += ???\n",
    "    # Add the cost to get back to the starting vertex\n",
    "    cost += findCostOf(E, tour[n-1], tour[0])\n",
    "    \n",
    "    if bestTour == None or ???:\n",
    "      bestTour = tour\n",
    "      bestTourCost = cost\n",
    "\n",
    "  print(\"Best tour is: \"+str(bestTour))\n",
    "  print(\"Cost: \"+str(bestTourCost))\n"
   ]
  },
  {
   "cell_type": "markdown",
   "id": "fc0df7aa-ee21-4604-bd09-14f76fd54d04",
   "metadata": {},
   "source": [
    "**3.2.** What's the time/space complexity of this funciton, in terms of `n = len(V)`?"
   ]
  },
  {
   "cell_type": "raw",
   "id": "54e9ecb9-ad55-45f3-92cb-84a1a1e11e5d",
   "metadata": {},
   "source": [
    "Time complexity:\n",
    "\n",
    "Space complexity:"
   ]
  },
  {
   "cell_type": "markdown",
   "id": "400c7e36-8657-4e04-a48a-8cd46a2d777e",
   "metadata": {},
   "source": [
    "**Bonus question**: We could make this function faster by forcing the tour to start at vertex 0. Why does this still give us the shortest tour, and how much faster would the function become?"
   ]
  },
  {
   "cell_type": "raw",
   "id": "c1a2d63f-9f4f-4798-984a-22aa785d9308",
   "metadata": {},
   "source": []
  },
  {
   "cell_type": "markdown",
   "id": "d5dcc446-a526-428e-becf-a78aea4dd1c0",
   "metadata": {},
   "source": [
    "## Section 4: Extension questions\n",
    "*These questions are more open-ended and textual than the previous ones - don't worry about writing loads, but feel free to investigate the topics if you have extra time!*"
   ]
  },
  {
   "cell_type": "markdown",
   "id": "97b56014-20a0-4d3c-b04e-5622c8b450f3",
   "metadata": {},
   "source": [
    "**4.1.**  While optimising a program for time complexity, we often increase its memory consumption, and vice versa.\n",
    "\n",
    "**a.** Give an example of a computer system in which time complexity should be reduced at the expense of more memory consumption."
   ]
  },
  {
   "cell_type": "raw",
   "id": "1b6ba4ee-8bb6-4b82-93c7-1a351fd1233e",
   "metadata": {},
   "source": []
  },
  {
   "cell_type": "markdown",
   "id": "70d27a4e-8bb1-4995-85b4-a4a443a9e4ad",
   "metadata": {},
   "source": [
    "**b.** Give an example of a computer system in which space complexity should be reduced at the expense of longer program run times."
   ]
  },
  {
   "cell_type": "raw",
   "id": "468ad6b3-0ecb-4c34-be6f-30f1521f5420",
   "metadata": {
    "tags": []
   },
   "source": []
  },
  {
   "cell_type": "markdown",
   "id": "89788f8a-cb4a-4561-aab7-5fedd25647bc",
   "metadata": {},
   "source": [
    "**4.2.** Computer scientists don’t currently have a proof that P≠NP (i.e. the class of deterministic polynomial-time programs is different to the class of nondeterministic polynomial-time programs).\n",
    "\n",
    "**a.** What would be the implications if a proof was found for P=NP?"
   ]
  },
  {
   "cell_type": "raw",
   "id": "0b65e226-f710-4e1f-bf84-8b3dddeaab66",
   "metadata": {
    "tags": []
   },
   "source": []
  },
  {
   "cell_type": "markdown",
   "id": "1c29796d-91d3-4dd4-a5e5-e699ef4eec04",
   "metadata": {},
   "source": [
    "**b.** What would happen if P≠NP was discovered instead?"
   ]
  },
  {
   "cell_type": "raw",
   "id": "c7121e1b-db3d-4435-bcd9-43ae4551f0d8",
   "metadata": {
    "tags": []
   },
   "source": []
  }
 ],
 "metadata": {
  "kernelspec": {
   "display_name": "default:Python",
   "language": "python",
   "name": "conda-env-default-py"
  },
  "language_info": {
   "codemirror_mode": {
    "name": "ipython",
    "version": 3
   },
   "file_extension": ".py",
   "mimetype": "text/x-python",
   "name": "python",
   "nbconvert_exporter": "python",
   "pygments_lexer": "ipython3",
   "version": "3.9.13"
  }
 },
 "nbformat": 4,
 "nbformat_minor": 5
}
